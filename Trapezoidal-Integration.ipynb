{
 "cells": [
  {
   "cell_type": "markdown",
   "id": "124fb838",
   "metadata": {},
   "source": [
    "# Trapezoidal Double Integration Rule:\n",
    "$$\n",
    "\\int_{c}^{d} \\int_{a}^{b} f(x, y) \\, dx dy \\approx h_x \\cdot h_y \\left(0.5 \\cdot (f(a, c) + f(a, d) + f(b, c) + f(b, d)) + \\sum_{i=1}^{n_x-1} \\sum_{j=1}^{n_y-1} f(x_i, y_j)\\right)\n",
    "$$\n",
    "\n",
    "where:\n",
    "\n",
    "* f(x, y) is the function being integrated\n",
    "* ∬ represents the double integral symbol\n",
    "* The limits of integration are implicitly represented as the region of integration over which the double integral is calculated\n",
    "* h_x and h_y are the step sizes or intervals for x and y, respectively. They can be calculated as (b - a) / n_x and (d - c) / n_y, where n_x and n_y are the number of intervals for x and y\n",
    "* x_i and y_j are the intermediate points within each interval, given by x_i = a + i * h_x and y_j = c + j * h_y, where i ranges from 1 to n_x - 1 and j ranges from 1 to n_y - 1\n",
    "* The term 0.5 * (f(a, c) + f(a, d) + f(b, c) + f(b, d)) represents the contributions from the four corners of the rectangular region\n",
    "* The sum ∑∑f(x_i, y_j) represents the contributions from the remaining points within the rectangular region, excluding the corners. This sum is obtained by iterating over the intermediate points (x_i, y_j) within each interval and summing up the values of f(x_i, y_j)\n"
   ]
  },
  {
   "cell_type": "markdown",
   "id": "17fa413e",
   "metadata": {},
   "source": [
    "# Defining Function for above Formula"
   ]
  },
  {
   "cell_type": "markdown",
   "id": "77135798",
   "metadata": {},
   "source": [
    "### Defining the function to calculate h_x"
   ]
  },
  {
   "cell_type": "code",
   "execution_count": 1,
   "id": "689bfa6a",
   "metadata": {},
   "outputs": [],
   "source": [
    "def spacing_x(n_x, a, b):\n",
    "    h_x = (b - a) / n_x\n",
    "    return h_x"
   ]
  },
  {
   "cell_type": "markdown",
   "id": "bad1ac5d",
   "metadata": {},
   "source": [
    "### Defining the function to calculate h_y"
   ]
  },
  {
   "cell_type": "code",
   "execution_count": 2,
   "id": "13bb27eb",
   "metadata": {},
   "outputs": [],
   "source": [
    "def spacing_y(n_y, c, d):\n",
    "    h_y = (d- c)/ n_y\n",
    "    return h_y"
   ]
  },
  {
   "cell_type": "markdown",
   "id": "84cfd388",
   "metadata": {},
   "source": [
    "### Defining the Formula for integration as a Function\n",
    "* expression : Function to integrate\n",
    "* n_x        : number of intervals on x\n",
    "* n_y        : number of intervals on y\n",
    "* x_a        : lower limit of x\n",
    "* x_b        : upper limit of x\n",
    "* y_a        : lower limit of y\n",
    "* y_b        : upper limit of y"
   ]
  },
  {
   "cell_type": "code",
   "execution_count": 3,
   "id": "7a125227",
   "metadata": {},
   "outputs": [],
   "source": [
    "import pandas as pd\n",
    "\n",
    "def Trapezoidal_integration(expression, n_x, n_y, x_a, x_b, y_a, y_b):\n",
    "    f = eval(\"lambda x, y: \" + expression)\n",
    "    a = x_a\n",
    "    b = x_b\n",
    "    c = y_a\n",
    "    d = y_b\n",
    "    n_x = n_x\n",
    "    n_y = n_y\n",
    "    h_x = spacing_x(n_x, a, b)\n",
    "    h_y = spacing_y(n_y, c, d)\n",
    "    \n",
    "    data = []\n",
    "    \n",
    "    for i in range(n_x + 1):\n",
    "        for j in range(n_y + 1):\n",
    "            x = a + i * h_x\n",
    "            y = c + j * h_y\n",
    "\n",
    "            weight = 1.0\n",
    "\n",
    "            if i == 0 or i == n_x:\n",
    "                weight *= 0.5\n",
    "            if j == 0 or j == n_y:\n",
    "                weight *= 0.5\n",
    "\n",
    "            integral = weight * f(x, y)\n",
    "            data.append([i, j, x, y, integral])\n",
    "\n",
    "    df = pd.DataFrame(data, columns=['i', 'j', 'x', 'y', 'integral'])\n",
    "    return df\n"
   ]
  },
  {
   "cell_type": "markdown",
   "id": "8bd7144e",
   "metadata": {},
   "source": [
    "## Creating a user-friendly Function that calls the integration and calculate the integration"
   ]
  },
  {
   "cell_type": "code",
   "execution_count": 4,
   "id": "0fefb50d",
   "metadata": {},
   "outputs": [],
   "source": [
    "def User_friendly_trapezoidal():\n",
    "    print(\"\\n\")\n",
    "    print(\"-------------Please Select One option----------------\")\n",
    "    print(\"################################################\")\n",
    "    print(\"1. See Trapezoidal Formula\")\n",
    "    print(\"2. Calculate Integration\")\n",
    "    print(\"3. Quit\")\n",
    "    print(\"-----------------------------------------------------\")\n",
    "    print(\"\\n\")\n",
    "    print(\"\\n\")\n",
    "    \n",
    "    choice = input(\"Select your choice: \")\n",
    "    \n",
    "    if choice == \"1\":\n",
    "        print(\"The formula for the trapezoidal integration is as follows:\")\n",
    "        print(\"\\n\")\n",
    "        print(\"∬ f(x, y) dA ≈ h_x * h_y * (0.5 * (f(a, c) + f(a, d) + f(b, c) + f(b, d)) + ΣΣ f(x_i, y_j))\")\n",
    "        User_friendly_trapezoidal()\n",
    "        \n",
    "    elif choice == \"2\":\n",
    "        expression = input(\"Enter the functional expression: \")\n",
    "        n_x = int(input(\"Enter the number of intervals for x: \"))\n",
    "        n_y = int(input(\"Enter the number of intervals for y: \"))\n",
    "        x_a = float(input(\"Enter the lower limit for x: \"))\n",
    "        x_b = float(input(\"Enter the upper limit for x: \"))\n",
    "        y_a = float(input(\"Enter the lower limit for y: \"))\n",
    "        y_b = float(input(\"Enter the upper limit for y: \"))\n",
    "        \n",
    "        result_df = Trapezoidal_integration(expression, n_x, n_y, x_a, x_b, y_a, y_b)\n",
    "        print(\"\\n\")\n",
    "        print(\"Integration Tabular form\")\n",
    "        print(\"\\n\")\n",
    "        print(result_df)\n",
    "        \n",
    "        total_integral = result_df['integral'].sum()*(spacing_x(n_x, a, b)*spacing_y(n_y, c, d))\n",
    "        print(\"Integration value:\", total_integral)\n",
    "        \n",
    "        User_friendly_trapezoidal()\n",
    "        \n",
    "    elif choice == \"3\":\n",
    "        print(\"Exiting the program...\")\n",
    "        \n",
    "    else:\n",
    "        print(\"Invalid choice! Please select a valid option.\")\n",
    "        User_friendly_trapezoidal()"
   ]
  },
  {
   "cell_type": "markdown",
   "id": "38156797",
   "metadata": {},
   "source": [
    "### Call the user-friendly function to start the program"
   ]
  },
  {
   "cell_type": "code",
   "execution_count": 5,
   "id": "749bc10c",
   "metadata": {},
   "outputs": [
    {
     "name": "stdout",
     "output_type": "stream",
     "text": [
      "\n",
      "\n",
      "-------------Please Select One option----------------\n",
      "################################################\n",
      "1. See Trapezoidal Formula\n",
      "2. Calculate Integration\n",
      "3. Quit\n",
      "-----------------------------------------------------\n",
      "\n",
      "\n",
      "\n",
      "\n",
      "Select your choice: 3\n",
      "Exiting the program...\n"
     ]
    }
   ],
   "source": [
    "User_friendly_trapezoidal()"
   ]
  }
 ],
 "metadata": {
  "kernelspec": {
   "display_name": "Python 3 (ipykernel)",
   "language": "python",
   "name": "python3"
  },
  "language_info": {
   "codemirror_mode": {
    "name": "ipython",
    "version": 3
   },
   "file_extension": ".py",
   "mimetype": "text/x-python",
   "name": "python",
   "nbconvert_exporter": "python",
   "pygments_lexer": "ipython3",
   "version": "3.10.11"
  }
 },
 "nbformat": 4,
 "nbformat_minor": 5
}
